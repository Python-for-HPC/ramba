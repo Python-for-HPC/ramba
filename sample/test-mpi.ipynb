{
 "cells": [
  {
   "cell_type": "markdown",
   "id": "234d32f4",
   "metadata": {},
   "source": [
    "<H1>Ramba Test</h1>\n",
    "\n",
    "Following cell loads sets up environment variables, loads ipyparallel, and starts a set of MPI processes.  It shows examples of common options, which are specified as environment variables.  Uncomment and update these as needed if you wish to override defaults.  Note: These environment variables must be set before the first time that ramba is imported.  To rerun with different settings, remember to restart the IPython Kernel.  "
   ]
  },
  {
   "cell_type": "code",
   "execution_count": null,
   "id": "ae90aa67",
   "metadata": {},
   "outputs": [],
   "source": [
    "N = 2   # number of mpi processes;  should be set to 2 or more (otherwise ramba will use ray)\n",
    "\n",
    "#Number of threads per process (defaults to 1 when using MPI)\n",
    "%set_env RAMBA_NUM_THREADS=4\n",
    "\n",
    "#set to 1 to forward calls of reshape to reshape_copy\n",
    "#%set_env RAMBA_RESHAPE_COPY=1\n",
    "\n",
    "#set to 1 if you need any dimension to exceed 2 billion (64-bit vs 32-bit indices)\n",
    "#%set_env RAMBA_BIG_DATA=1\n",
    "\n",
    "#set to 0,1,2,3,.. to set debugging log level\n",
    "#%set_env RAMBA_DEBUG=1\n",
    "\n",
    "#set to 1 to get detailed timing information\n",
    "#%set_env RAMBA_TIMING=1\n",
    "\n",
    "#set to worker number i -- this worker will print detailed timing if RAMBA_TIMING=1\n",
    "#%set_env RAMBA_TIMING_WORKER=i\n",
    "\n",
    "\n",
    "import ipyparallel as ipp\n",
    "c = await ipp.Cluster(engines=\"mpi\").start_and_connect(n=N, activate=True)\n",
    "\n",
    "%autopx   # tell ipyparallel to start treating subsequent cells as code that will run in all of the mpi processes"
   ]
  },
  {
   "cell_type": "code",
   "execution_count": null,
   "id": "7eabcc1c",
   "metadata": {},
   "outputs": [],
   "source": [
    "print (\"hi\")  # sanity check -- should produce N outputs, one from each mpi process"
   ]
  },
  {
   "cell_type": "markdown",
   "id": "f0394cf0",
   "metadata": {},
   "source": [
    "Next, load ramba"
   ]
  },
  {
   "cell_type": "code",
   "execution_count": null,
   "id": "8427e790",
   "metadata": {},
   "outputs": [],
   "source": [
    "import ramba as np\n",
    "import time as time\n",
    "np.sync()"
   ]
  },
  {
   "cell_type": "code",
   "execution_count": null,
   "id": "0149f4af",
   "metadata": {},
   "outputs": [],
   "source": [
    "A = np.arange(100*1000*1000)/1000.0\n",
    "np.sync()"
   ]
  },
  {
   "cell_type": "code",
   "execution_count": null,
   "id": "79384de0",
   "metadata": {},
   "outputs": [],
   "source": [
    "for i in range(5):\n",
    "    t0 = time.time()\n",
    "    B = np.sin(A)\n",
    "    C = np.cos(A)\n",
    "    D = B*B + C**2\n",
    "    np.sync()\n",
    "    t1 = time.time()\n",
    "    if np.is_main_thread:   # check if rank 0 so only one process prints\n",
    "        print (\"Iteration\",i+1,\"time:\",t1-t0)"
   ]
  },
  {
   "cell_type": "markdown",
   "id": "9af87c23",
   "metadata": {},
   "source": [
    "Now let's try again with numpy"
   ]
  },
  {
   "cell_type": "code",
   "execution_count": null,
   "id": "bfb9c1ff",
   "metadata": {},
   "outputs": [],
   "source": [
    "%autopx   # toggle running in all processes"
   ]
  },
  {
   "cell_type": "code",
   "execution_count": null,
   "id": "b42c93ab",
   "metadata": {},
   "outputs": [],
   "source": [
    "%%time\n",
    "import numpy as np2\n",
    "import time as time\n",
    "A2 = np2.arange(100*1000*1000)/1000.0"
   ]
  },
  {
   "cell_type": "code",
   "execution_count": null,
   "id": "11067c3e",
   "metadata": {},
   "outputs": [],
   "source": [
    "for i in range(5):\n",
    "    t0 = time.time()\n",
    "    B2 = np2.sin(A2)\n",
    "    C2 = np2.cos(A2)\n",
    "    D2 = B2*B2 + C2**2\n",
    "    t1 = time.time()\n",
    "    print (\"Iteration\",i+1,\"time:\",t1-t0)"
   ]
  },
  {
   "cell_type": "code",
   "execution_count": null,
   "id": "8fa18e0e",
   "metadata": {},
   "outputs": [],
   "source": []
  }
 ],
 "metadata": {
  "kernelspec": {
   "display_name": "Python 3 (ipykernel)",
   "language": "python",
   "name": "python3"
  },
  "language_info": {
   "codemirror_mode": {
    "name": "ipython",
    "version": 3
   },
   "file_extension": ".py",
   "mimetype": "text/x-python",
   "name": "python",
   "nbconvert_exporter": "python",
   "pygments_lexer": "ipython3",
   "version": "3.10.9"
  }
 },
 "nbformat": 4,
 "nbformat_minor": 5
}
