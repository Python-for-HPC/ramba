{
 "cells": [
  {
   "cell_type": "markdown",
   "id": "09643efa",
   "metadata": {},
   "source": [
    "<H1>Ramba Test</h1>\n",
    "\n",
    "Following cell loads Ramba.  It shows examples of common options, which are specified as environment variables.  Uncomment and update these as needed if you wish to override defaults.  Note: These environment variables must be set before the first time that ramba is imported.  To rerun with different settings, remember to restart the IPython Kernel.  "
   ]
  },
  {
   "cell_type": "code",
   "execution_count": null,
   "id": "cdde4ddf",
   "metadata": {
    "scrolled": true
   },
   "outputs": [],
   "source": [
    "#%set_env RAMBA_WORKERS=2        #Number of worker processes\n",
    "#%set_env RAMBA_NUM_THREADS=4    #Number of threads per process\n",
    "#%set_env ray_address=\"ip_addr:port\"     #address of ray cluster head\n",
    "#%set_env redis_password=\"password\"      #password for ray cluster\n",
    "#%set_env RAMBA_IP_HINT=\"192.168.1.0\"    #subnet of interface to bind communications;  useful to \n",
    "                                         #   select a particular network interface\n",
    "#%set_env RAMBA_RESHAPE_COPY=1   #set to 1 to forward calls of reshape to reshape_copy\n",
    "#%set_env RAMBA_BIG_DATA=1       #set to 1 if you need any dimesnsion to exceed 2 billion (64-bit vs 32-bit indices)\n",
    "#%set_env RAMBA_DEBUG=1          #set to 0,1,2,3,.. to set debugging log level\n",
    "#%set_env RAMBA_TIMING=1         #set to 1 to get detailed timing information\n",
    "#%set_env RAMBA_TIMING_WORKER=i  #set to worker number i -- this worker will print detailed timing if RAMBA_TIMING=1\n",
    "\n",
    "\n",
    "import ramba as np\n",
    "import numpy as np2\n",
    "import time as time\n",
    "np.sync()"
   ]
  },
  {
   "cell_type": "code",
   "execution_count": null,
   "id": "8c9207f8",
   "metadata": {},
   "outputs": [],
   "source": [
    "%%time\n",
    "A = np.arange(100*1000*1000)/1000.0\n",
    "np.sync()"
   ]
  },
  {
   "cell_type": "code",
   "execution_count": null,
   "id": "0373d9ca",
   "metadata": {},
   "outputs": [],
   "source": [
    "for i in range(5):\n",
    "    t0 = time.time()\n",
    "    B = np.sin(A)\n",
    "    C = np.cos(A)\n",
    "    D = B*B + C**2\n",
    "    np.sync()\n",
    "    t1 = time.time()\n",
    "    print (\"Iteration\",i+1,\"time:\",t1-t0)\n",
    "\n"
   ]
  },
  {
   "cell_type": "markdown",
   "id": "d312cd6b",
   "metadata": {},
   "source": [
    "Now let's try this with numpy"
   ]
  },
  {
   "cell_type": "code",
   "execution_count": null,
   "id": "fd201388",
   "metadata": {},
   "outputs": [],
   "source": [
    "%%time\n",
    "A2 = np2.arange(100*1000*1000)/1000.0"
   ]
  },
  {
   "cell_type": "code",
   "execution_count": null,
   "id": "49fe000a",
   "metadata": {},
   "outputs": [],
   "source": [
    "for i in range(5):\n",
    "    t0 = time.time()\n",
    "    B2 = np2.sin(A2)\n",
    "    C2 = np2.cos(A2)\n",
    "    D2 = B2*B2 + C2**2\n",
    "    t1 = time.time()\n",
    "    print (\"Iteration\",i+1,\"time:\",t1-t0)\n"
   ]
  },
  {
   "cell_type": "code",
   "execution_count": null,
   "id": "97e40b13",
   "metadata": {},
   "outputs": [],
   "source": []
  }
 ],
 "metadata": {
  "kernelspec": {
   "display_name": "Python 3 (ipykernel)",
   "language": "python",
   "name": "python3"
  },
  "language_info": {
   "codemirror_mode": {
    "name": "ipython",
    "version": 3
   },
   "file_extension": ".py",
   "mimetype": "text/x-python",
   "name": "python",
   "nbconvert_exporter": "python",
   "pygments_lexer": "ipython3",
   "version": "3.8.12"
  }
 },
 "nbformat": 4,
 "nbformat_minor": 5
}
